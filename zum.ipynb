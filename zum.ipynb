{
 "cells": [
  {
   "cell_type": "code",
   "execution_count": null,
   "outputs": [],
   "source": [
    "%load_ext autoreload\n",
    "%autoreload 2"
   ],
   "metadata": {
    "collapsed": false
   }
  },
  {
   "cell_type": "code",
   "execution_count": null,
   "metadata": {
    "collapsed": true
   },
   "outputs": [],
   "source": [
    "import numpy as np\n",
    "import pandas as pd\n",
    "\n",
    "from sklearn.tree import DecisionTreeClassifier\n",
    "from sklearn.compose import ColumnTransformer\n",
    "from sklearn.preprocessing import StandardScaler, OneHotEncoder\n",
    "from sklearn.svm import LinearSVC\n",
    "from sklearn.ensemble import BaggingClassifier, RandomForestClassifier\n",
    "from sklearn.linear_model import LogisticRegression\n",
    "from sklearn.model_selection import cross_validate\n",
    "from bagging_classifier import CustomBaggingClassifier\n",
    "from datasets import load_dataset"
   ]
  },
  {
   "cell_type": "code",
   "execution_count": null,
   "outputs": [],
   "source": [
    "X, y, numerical_columns, categorical_columns, label_encoder = load_dataset(name=\"adult\")\n",
    "#X, y, numerical_columns, categorical_columns, label_encoder = load_dataset(name=\"wine\")"
   ],
   "metadata": {
    "collapsed": false
   }
  },
  {
   "cell_type": "markdown",
   "source": [
    "### Custom"
   ],
   "metadata": {
    "collapsed": false
   }
  },
  {
   "cell_type": "code",
   "execution_count": null,
   "outputs": [],
   "source": [
    "model = CustomBaggingClassifier(estimator=LinearSVC, sample_size=0.8, sample_size_features=0.8, n_estimators=5, categorical_features=categorical_columns)\n",
    "#model = CustomBaggingClassifier(estimator=DecisionTreeClassifier, sample_size=0.8, sample_size_features=0.8, n_estimators=5)\n",
    "#model = CustomBaggingClassifier(estimator=LogisticRegression, sample_size=0.8, sample_size_features=0.8, n_estimators=5)"
   ],
   "metadata": {
    "collapsed": false
   }
  },
  {
   "cell_type": "code",
   "execution_count": null,
   "outputs": [],
   "source": [
    "model.fit(X, y)"
   ],
   "metadata": {
    "collapsed": false
   }
  },
  {
   "cell_type": "code",
   "execution_count": null,
   "outputs": [],
   "source": [
    "cross_validate(model, X, y, cv=5, scoring=(\"accuracy\"))"
   ],
   "metadata": {
    "collapsed": false
   }
  },
  {
   "cell_type": "markdown",
   "source": [
    "### scikit-learn"
   ],
   "metadata": {
    "collapsed": false
   }
  },
  {
   "cell_type": "code",
   "execution_count": null,
   "outputs": [],
   "source": [
    "def preprocess(X):\n",
    "    numerical_features = list(set(X.columns) - set(categorical_columns))\n",
    "    transformer = ColumnTransformer(\n",
    "        [('ct', StandardScaler(), numerical_features),\n",
    "         (\"ohe\", OneHotEncoder(sparse_output=False, handle_unknown='ignore'), categorical_columns)],\n",
    "        remainder='passthrough')\n",
    "    return transformer.fit_transform(X)\n",
    "\n",
    "X_transformed = preprocess(X)"
   ],
   "metadata": {
    "collapsed": false
   }
  },
  {
   "cell_type": "code",
   "execution_count": null,
   "outputs": [],
   "source": [
    "model = RandomForestClassifier()\n",
    "#model = BaggingClassifier(estimator=LinearSVC())\n",
    "model.fit(X_transformed, y)\n",
    "cross_validate(model, X_transformed, y, cv=5, scoring=(\"accuracy\"))"
   ],
   "metadata": {
    "collapsed": false
   }
  }
 ],
 "metadata": {
  "kernelspec": {
   "display_name": "Python 3",
   "language": "python",
   "name": "python3"
  },
  "language_info": {
   "codemirror_mode": {
    "name": "ipython",
    "version": 2
   },
   "file_extension": ".py",
   "mimetype": "text/x-python",
   "name": "python",
   "nbconvert_exporter": "python",
   "pygments_lexer": "ipython2",
   "version": "2.7.6"
  }
 },
 "nbformat": 4,
 "nbformat_minor": 0
}
